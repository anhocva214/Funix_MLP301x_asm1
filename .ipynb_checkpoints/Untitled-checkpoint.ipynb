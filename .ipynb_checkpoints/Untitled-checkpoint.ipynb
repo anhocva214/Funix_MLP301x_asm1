{
 "cells": [
  {
   "cell_type": "markdown",
   "metadata": {},
   "source": [
    "# MLP301x_1.2-A_VN Giới thiệu về Học máy\n",
    "## Assignment 1"
   ]
  },
  {
   "cell_type": "code",
   "execution_count": 1,
   "metadata": {},
   "outputs": [],
   "source": [
    "#import các thư viện cần thiết\n",
    "import numpy as np\n",
    "import sys"
   ]
  },
  {
   "cell_type": "code",
   "execution_count": 2,
   "metadata": {},
   "outputs": [],
   "source": [
    "# Hàm log lỗi của các bài test\n",
    "def Log(msg, item):\n",
    "    print(msg)\n",
    "    print(item)"
   ]
  },
  {
   "cell_type": "code",
   "execution_count": 3,
   "metadata": {},
   "outputs": [],
   "source": [
    "# Hàm IsValidTest kiểm tra tính hợp lệ của bài test\n",
    "def IsValidTest(test):\n",
    "    item_split = test.split(\",\")\n",
    "    if len(item_split) != 26:\n",
    "        Log(\"Invalid line of data: does not contain exactly 26 values:\", test)\n",
    "        return False\n",
    "        \n",
    "    elif len(item_split[0]) != 9 or item_split[0][0] != 'N':\n",
    "        Log(\"Invalid line of data: N# is invalid:\", test)\n",
    "        return False\n",
    "    else:\n",
    "        try:\n",
    "            num = int(item_split[0][1:])\n",
    "            return True\n",
    "        except:\n",
    "            Log(\"Invalid line of data: N# is invalid (# is not number)\", test)\n",
    "            return False"
   ]
  },
  {
   "cell_type": "code",
   "execution_count": 4,
   "metadata": {},
   "outputs": [],
   "source": [
    "# Hàm ScoreOfTest trả về tổng điểm của 1 bài test\n",
    "def ScoreOfTest(test_list, answer_key):\n",
    "    answer_key = answer_key.split(\",\")\n",
    "    if len(answer_key) != 25:\n",
    "        print(\"answer_key is invalid\")\n",
    "        return -1\n",
    "    else:\n",
    "        length = len(answer_key)\n",
    "        score = 0\n",
    "        for i in range(0, length):\n",
    "            test_item = test_list[i].replace(\"\\n\",\"\").strip()\n",
    "            if len(test_item) == 0:\n",
    "                score += 0\n",
    "            elif test_item == answer_key[i]:\n",
    "                score += 4\n",
    "            else:\n",
    "                score += -1\n",
    "        return score"
   ]
  },
  {
   "cell_type": "code",
   "execution_count": 5,
   "metadata": {},
   "outputs": [],
   "source": [
    "# Hàm ExportFile dùng để xuất ra một file tương ứng với một lớp\n",
    "def ExportFile(student_list, filename):\n",
    "    with open(filename+\".txt\", \"w+\") as file:\n",
    "        for student in student_list:\n",
    "            file.write(student.id + \",\" +str(student.test_score) + \"\\n\")\n",
    "    pass   "
   ]
  },
  {
   "cell_type": "code",
   "execution_count": 8,
   "metadata": {},
   "outputs": [],
   "source": [
    "# Hàm AnalyzeFile đẻ thực thị xử lý một file \n",
    "def AnalyzeFile(filename):\n",
    "    # Khỏi tạo class Student\n",
    "    class Student:\n",
    "        def __init__(self, id, test_list):\n",
    "            self.id = id # mã học sinh\n",
    "            self.test_list = test_list # danh sách đáp án của học sinh\n",
    "        def set_score(self, score):\n",
    "            self.test_score = score \n",
    "\n",
    "\n",
    "\n",
    "    ROOT_DATA = \"./Data Files/\"\n",
    "    # filename = input(\"Enter a class file to grade: \")\n",
    "    data = []\n",
    "    try:\n",
    "        with open(ROOT_DATA+filename+\".txt\", \"r\") as file:\n",
    "            print(\"Successfully opened \"+filename+\".txt\")\n",
    "            data = file.readlines()\n",
    "    except:\n",
    "        print(\"File cannot be found.\")\n",
    "\n",
    "    print(\"**** ANALYZING ****\")\n",
    "\n",
    "    total_valid = len(data)\n",
    "    total_invalid = 0\n",
    "    answer_key = \"B,A,D,D,C,B,D,A,C,C,D,B,A,B,A,C,B,D,A,C,A,A,B,D,D\"\n",
    "    student_list = []\n",
    "\n",
    "\n",
    "    for item in data:\n",
    "        if IsValidTest(item) == False:\n",
    "            total_valid += -1\n",
    "            total_invalid += 1\n",
    "        else:\n",
    "            item_split = item.split(\",\")\n",
    "            student = Student(item_split[0], item_split[1:])\n",
    "            student.set_score(ScoreOfTest(student.test_list, answer_key))\n",
    "            student_list.append(student) # thêm tất cả các item hợp lệ vào 1 list\n",
    "\n",
    "    # Nếu tổng dòng hợp lệ không có sự thay đổi thì không có dòng nào bị lỗi\n",
    "    if total_valid == len(data): \n",
    "        print(\"No errors found!\")\n",
    "\n",
    "\n",
    "    # Trích xuất tất cả điểm vào 1 list\n",
    "    score_list = []\n",
    "    for student in student_list:\n",
    "        score_list.append(student.test_score)\n",
    "\n",
    "    # Sắp xếp list\n",
    "    score_list.sort()\n",
    "    # Chuyển list sang numpy\n",
    "    np_score = np.array(score_list)\n",
    "\n",
    "\n",
    "    print(\"**** REPORT ****\")\n",
    "    print(\"Total valid lines of data:\", total_valid)\n",
    "    print(\"Total invalid lines of data:\", total_invalid)\n",
    "    print(\"Mean (average) score:\", np.mean(np_score))\n",
    "    print(\"Highest score:\", np.max(np_score))\n",
    "    print(\"Lowest score:\", np.min(np_score))\n",
    "    print(\"Range of scores:\",  np.max(np_score) - np.min(np_score))\n",
    "    print(\"Median score:\", np.median(np_score))\n",
    "\n",
    "    # Xuất file\n",
    "    ExportFile(student_list, filename+\"_grades\")"
   ]
  },
  {
   "cell_type": "code",
   "execution_count": 10,
   "metadata": {},
   "outputs": [
    {
     "name": "stdout",
     "output_type": "stream",
     "text": [
      "Successfully opened class1.txt\n",
      "**** ANALYZING ****\n",
      "No errors found!\n",
      "**** REPORT ****\n",
      "Total valid lines of data: 20\n",
      "Total invalid lines of data: 0\n",
      "Mean (average) score: 75.6\n",
      "Lowest score: 59\n",
      "Range of scores: 32\n",
      "Median score: 73.0\n"
     ]
    }
   ],
   "source": [
    "# Lấy các tên lớp từ command line và phân tích từng lớp đó\n",
    "\n",
    "# filename_cmd = sys.argv[1:]\n",
    "# for filename in filename_cmd:\n",
    "#     AnalyzeFile(filename);\n",
    "#     print('\\n')\n",
    "\n",
    "\n",
    "# Chạy demo\n",
    "AnalyzeFile(\"class1\");"
   ]
  }
 ],
 "metadata": {
  "kernelspec": {
   "display_name": "Python 3",
   "language": "python",
   "name": "python3"
  },
  "language_info": {
   "codemirror_mode": {
    "name": "ipython",
    "version": 3
   },
   "file_extension": ".py",
   "mimetype": "text/x-python",
   "name": "python",
   "nbconvert_exporter": "python",
   "pygments_lexer": "ipython3",
   "version": "3.6.13"
  }
 },
 "nbformat": 4,
 "nbformat_minor": 4
}
